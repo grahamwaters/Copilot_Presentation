{
 "cells": [
  {
   "cell_type": "code",
   "execution_count": null,
   "metadata": {},
   "outputs": [],
   "source": [
    "# Let's try an advanced example of using Copilot\n",
    "# Using GitHub's Copilot to write a Python script that updates a Notion database with recent details from an RSS feed from NOAA's weather service.\n",
    "# This is a great example of how Copilot can be used to write code that interacts with other APIs and services.\n",
    "\n",
    "# First, we need to import the libraries we'll need to interact with the RSS feed and the Notion database.\n",
    "import feedparser\n",
    "import requests\n",
    "import json\n",
    "import os\n",
    "from datetime import datetime\n",
    "#^ Here let's throw what we have into chatgpt and see what it comes up with.\n"
   ]
  },
  {
   "attachments": {},
   "cell_type": "markdown",
   "metadata": {},
   "source": [
    "While chatGPT is generating I am writing this summary of the cell above. The imports will be used to parse RSS data and generate real insights from weather."
   ]
  },
  {
   "cell_type": "code",
   "execution_count": 2,
   "metadata": {},
   "outputs": [
    {
     "name": "stdout",
     "output_type": "stream",
     "text": [
      "Collecting notion_client\n",
      "  Downloading notion_client-2.0.0-py2.py3-none-any.whl (13 kB)\n",
      "Collecting httpx>=0.15.0\n",
      "  Downloading httpx-0.23.3-py3-none-any.whl (71 kB)\n",
      "\u001b[2K     \u001b[90m━━━━━━━━━━━━━━━━━━━━━━━━━━━━━━━━━━━━━━━━\u001b[0m \u001b[32m71.5/71.5 kB\u001b[0m \u001b[31m2.3 MB/s\u001b[0m eta \u001b[36m0:00:00\u001b[0m\n",
      "\u001b[?25hRequirement already satisfied: certifi in /opt/anaconda3/envs/groupme/lib/python3.9/site-packages (from httpx>=0.15.0->notion_client) (2022.12.7)\n",
      "Collecting httpcore<0.17.0,>=0.15.0\n",
      "  Downloading httpcore-0.16.3-py3-none-any.whl (69 kB)\n",
      "\u001b[2K     \u001b[90m━━━━━━━━━━━━━━━━━━━━━━━━━━━━━━━━━━━━━━━━\u001b[0m \u001b[32m69.6/69.6 kB\u001b[0m \u001b[31m8.8 MB/s\u001b[0m eta \u001b[36m0:00:00\u001b[0m\n",
      "\u001b[?25hRequirement already satisfied: sniffio in /opt/anaconda3/envs/groupme/lib/python3.9/site-packages (from httpx>=0.15.0->notion_client) (1.3.0)\n",
      "Collecting rfc3986[idna2008]<2,>=1.3\n",
      "  Using cached rfc3986-1.5.0-py2.py3-none-any.whl (31 kB)\n",
      "Collecting anyio<5.0,>=3.0\n",
      "  Using cached anyio-3.6.2-py3-none-any.whl (80 kB)\n",
      "Requirement already satisfied: h11<0.15,>=0.13 in /opt/anaconda3/envs/groupme/lib/python3.9/site-packages (from httpcore<0.17.0,>=0.15.0->httpx>=0.15.0->notion_client) (0.14.0)\n",
      "Requirement already satisfied: idna in /opt/anaconda3/envs/groupme/lib/python3.9/site-packages (from rfc3986[idna2008]<2,>=1.3->httpx>=0.15.0->notion_client) (2.7)\n",
      "Collecting idna\n",
      "  Using cached idna-3.4-py3-none-any.whl (61 kB)\n",
      "Installing collected packages: rfc3986, idna, anyio, httpcore, httpx, notion_client\n",
      "  Attempting uninstall: idna\n",
      "    Found existing installation: idna 2.7\n",
      "    Uninstalling idna-2.7:\n",
      "      Successfully uninstalled idna-2.7\n",
      "\u001b[31mERROR: pip's dependency resolver does not currently take into account all the packages that are installed. This behaviour is the source of the following dependency conflicts.\n",
      "groupyapi 0.10.3 requires requests~=2.20.0, but you have requests 2.28.2 which is incompatible.\u001b[0m\u001b[31m\n",
      "\u001b[0mSuccessfully installed anyio-3.6.2 httpcore-0.16.3 httpx-0.23.3 idna-3.4 notion_client-2.0.0 rfc3986-1.5.0\n"
     ]
    }
   ],
   "source": [
    "!pip install notion_client"
   ]
  },
  {
   "attachments": {},
   "cell_type": "markdown",
   "metadata": {},
   "source": [
    "Title\tRSS Feed Url\tDomain\n",
    "/r/space: news, articles and discussion\thttps://www.reddit.com/r/space/.rss?format=xml\treddit.com\n",
    "NASA Breaking News\thttps://www.nasa.gov/rss/dyn/breaking_news.rss\tnasa.gov\n",
    "New Scientist - Space\thttps://www.newscientist.com/subject/space/feed/\tnewscientist.com\n",
    "Sky & Telescope\thttps://www.skyandtelescope.com/feed/\tskyandtelescope.org\n",
    "Space - The Guardian\thttps://www.theguardian.com/science/space/rss\ttheguardian.com\n",
    "Space.com\thttps://www.space.com/feeds/all\tspace.com\n",
    "SpaceX\thttps://www.youtube.com/feeds/videos.xml?user=spacexchannel\tyoutube.com"
   ]
  },
  {
   "cell_type": "code",
   "execution_count": 3,
   "metadata": {},
   "outputs": [
    {
     "ename": "AttributeError",
     "evalue": "'NoneType' object has no attribute 'text'",
     "output_type": "error",
     "traceback": [
      "\u001b[0;31m---------------------------------------------------------------------------\u001b[0m",
      "\u001b[0;31mAttributeError\u001b[0m                            Traceback (most recent call last)",
      "Cell \u001b[0;32mIn[3], line 14\u001b[0m\n\u001b[1;32m     11\u001b[0m root \u001b[39m=\u001b[39m tree\u001b[39m.\u001b[39mgetroot()\n\u001b[1;32m     13\u001b[0m \u001b[39m# Get the temperature and forecast information\u001b[39;00m\n\u001b[0;32m---> 14\u001b[0m temperature \u001b[39m=\u001b[39m root\u001b[39m.\u001b[39;49mfind(\u001b[39m\"\u001b[39;49m\u001b[39m./data/parameters/temperature[@type=\u001b[39;49m\u001b[39m'\u001b[39;49m\u001b[39mmaximum\u001b[39;49m\u001b[39m'\u001b[39;49m\u001b[39m]/value\u001b[39;49m\u001b[39m\"\u001b[39;49m)\u001b[39m.\u001b[39;49mtext\n\u001b[1;32m     15\u001b[0m forecast \u001b[39m=\u001b[39m root\u001b[39m.\u001b[39mfind(\u001b[39m\"\u001b[39m\u001b[39m./data/parameters/wordedForecast/text\u001b[39m\u001b[39m\"\u001b[39m)\u001b[39m.\u001b[39mtext\n\u001b[1;32m     17\u001b[0m \u001b[39m# Initialize the Notion client\u001b[39;00m\n",
      "\u001b[0;31mAttributeError\u001b[0m: 'NoneType' object has no attribute 'text'"
     ]
    }
   ],
   "source": [
    "import requests\n",
    "import xml.etree.ElementTree as ET\n",
    "from notion_client import Client\n",
    "\n",
    "# Get the RSS feed data\n",
    "response = requests.get(\"https://forecast.weather.gov/MapClick.php?lat=37.7772&lon=-122.4168&FcstType=digitalDWML\")\n",
    "xml_content = response.content\n",
    "\n",
    "# Parse the XML data into a tree structure\n",
    "tree = ET.ElementTree(ET.fromstring(xml_content))\n",
    "root = tree.getroot()\n",
    "\n",
    "# Get the temperature and forecast information\n",
    "temperature = root.find(\"./data/parameters/temperature[@type='maximum']/value\").text\n",
    "forecast = root.find(\"./data/parameters/wordedForecast/text\").text\n",
    "\n",
    "# Initialize the Notion client\n",
    "notion = Client(auth=(\"<auth_token>\", \"<auth_token_secret>\"))\n",
    "\n",
    "# Define the database to update\n",
    "database_id = \"<database_id>\"\n",
    "\n",
    "# Create a new database row with the temperature and forecast information\n",
    "new_page = {\n",
    "    \"Temperature\": temperature,\n",
    "    \"Forecast\": forecast\n",
    "}\n",
    "notion.pages.create(parent={\"database_id\": database_id}, properties=new_page)\n",
    "\n",
    "print(\"Successfully updated the Notion database with the latest weather information.\")\n"
   ]
  }
 ],
 "metadata": {
  "kernelspec": {
   "display_name": "groupme",
   "language": "python",
   "name": "python3"
  },
  "language_info": {
   "codemirror_mode": {
    "name": "ipython",
    "version": 3
   },
   "file_extension": ".py",
   "mimetype": "text/x-python",
   "name": "python",
   "nbconvert_exporter": "python",
   "pygments_lexer": "ipython3",
   "version": "3.9.6 (default, Aug 18 2021, 12:38:10) \n[Clang 10.0.0 ]"
  },
  "orig_nbformat": 4,
  "vscode": {
   "interpreter": {
    "hash": "28dd76f97a2595215b3511d9563b8125e93469ee739d17a6b25584482d270cb8"
   }
  }
 },
 "nbformat": 4,
 "nbformat_minor": 2
}
