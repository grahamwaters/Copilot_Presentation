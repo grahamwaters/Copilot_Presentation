{
 "cells": [
  {
   "cell_type": "code",
   "execution_count": 1,
   "metadata": {},
   "outputs": [
    {
     "name": "stdout",
     "output_type": "stream",
     "text": [
      "{\"message\":\"You are not subscribed to this API.\"}\n"
     ]
    }
   ],
   "source": [
    "import requests\n",
    "import json\n",
    "\n",
    "url = \"https://wft-geo-db.p.rapidapi.com/v1/geo/adminDivisions\"\n",
    "# get the api data from secrets.json\n",
    "with open(\"secrets.json\") as f:\n",
    "    secrets = json.load(f)\n",
    "    api_key = secrets[\"X-RapidAPI-Key\"]\n",
    "    api_host = secrets[\"X-RapidAPI-Host\"]\n",
    "\n",
    "headers = {\n",
    "\t\"X-RapidAPI-Key\": api_key,\n",
    "\t\"X-RapidAPI-Host\": api_host\n",
    "}\n",
    "\n",
    "response = requests.request(\"GET\", url, headers=headers)\n",
    "\n",
    "print(response.text)"
   ]
  },
  {
   "cell_type": "code",
   "execution_count": 2,
   "metadata": {},
   "outputs": [
    {
     "name": "stdout",
     "output_type": "stream",
     "text": [
      "{\"data\":[{\"id\":126893,\"wikiDataId\":\"Q840678\",\"type\":\"CITY\",\"city\":\"Redondo Beach\",\"name\":\"Redondo Beach\",\"country\":\"United States of America\",\"countryCode\":\"US\",\"region\":\"California\",\"regionCode\":\"CA\",\"latitude\":33.856388888,\"longitude\":-118.376944444,\"population\":71576,\"distance\":1.77},{\"id\":126136,\"wikiDataId\":\"Q828712\",\"type\":\"CITY\",\"city\":\"Hermosa Beach\",\"name\":\"Hermosa Beach\",\"country\":\"United States of America\",\"countryCode\":\"US\",\"region\":\"California\",\"regionCode\":\"CA\",\"latitude\":33.866388888,\"longitude\":-118.399722222,\"population\":19728,\"distance\":2.47},{\"id\":126493,\"wikiDataId\":\"Q489197\",\"type\":\"CITY\",\"city\":\"Torrance\",\"name\":\"Torrance\",\"country\":\"United States of America\",\"countryCode\":\"US\",\"region\":\"California\",\"regionCode\":\"CA\",\"latitude\":33.8358492,\"longitude\":-118.3406288,\"population\":147067,\"distance\":2.68},{\"id\":3196368,\"wikiDataId\":\"Q7966564\",\"type\":\"CITY\",\"city\":\"Walteria\",\"name\":\"Walteria\",\"country\":\"United States of America\",\"countryCode\":\"US\",\"region\":\"California\",\"regionCode\":\"CA\",\"latitude\":33.805,\"longitude\":-118.351111111,\"population\":0,\"distance\":2.79},{\"id\":126133,\"wikiDataId\":\"Q948149\",\"type\":\"CITY\",\"city\":\"Palos Verdes Estates\",\"name\":\"Palos Verdes Estates\",\"country\":\"United States of America\",\"countryCode\":\"US\",\"region\":\"California\",\"regionCode\":\"CA\",\"latitude\":33.786944444,\"longitude\":-118.396666666,\"population\":13347,\"distance\":3.18}],\"links\":[{\"rel\":\"first\",\"href\":\"/v1/geo/locations/33.832213-118.387099/nearbyCities?offset=0&limit=5&radius=100\"},{\"rel\":\"next\",\"href\":\"/v1/geo/locations/33.832213-118.387099/nearbyCities?offset=5&limit=5&radius=100\"},{\"rel\":\"last\",\"href\":\"/v1/geo/locations/33.832213-118.387099/nearbyCities?offset=505&limit=5&radius=100\"}],\"metadata\":{\"currentOffset\":0,\"totalCount\":509}}\n"
     ]
    }
   ],
   "source": [
    "import requests\n",
    "\n",
    "url = \"https://wft-geo-db.p.rapidapi.com/v1/geo/locations/33.832213-118.387099/nearbyCities\"\n",
    "querystring = {\"radius\":\"100\"}\n",
    "response = requests.request(\"GET\", url, headers=headers, params=querystring)\n",
    "print(response.text)"
   ]
  }
 ],
 "metadata": {
  "kernelspec": {
   "display_name": "groupme",
   "language": "python",
   "name": "python3"
  },
  "language_info": {
   "codemirror_mode": {
    "name": "ipython",
    "version": 3
   },
   "file_extension": ".py",
   "mimetype": "text/x-python",
   "name": "python",
   "nbconvert_exporter": "python",
   "pygments_lexer": "ipython3",
   "version": "3.9.6"
  },
  "orig_nbformat": 4,
  "vscode": {
   "interpreter": {
    "hash": "28dd76f97a2595215b3511d9563b8125e93469ee739d17a6b25584482d270cb8"
   }
  }
 },
 "nbformat": 4,
 "nbformat_minor": 2
}
