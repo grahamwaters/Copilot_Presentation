{
 "cells": [
  {
   "cell_type": "code",
   "execution_count": 5,
   "metadata": {},
   "outputs": [
    {
     "name": "stdout",
     "output_type": "stream",
     "text": [
      "1. Please paste your code into the text file: `code_to_debug.txt`\n",
      "2. Paste the error message you are getting into the text file: `error_message.txt` and then run the next cell\n"
     ]
    }
   ],
   "source": [
    "# Debugging Helper for chatGPT prompting\n",
    "import re\n",
    "preface = \"You are a professional Python developer with experience using VSCode and the libraries:\"\n",
    "mycode = \"\" # code to be debugged\n",
    "libraries = \"\" # libraries used in the code line above, separated by commas extract these using regex\n",
    "libraries = re.findall(r\"import\\s(\\w+)\", mycode.replace('\\n', ' ')) # extract libraries from code above\n",
    "ending = \"Would you mind taking a look at my code above and this error message? -> {} \\n If you are able to fix this issue could you please explain what you did and why it worked? Thank you so much!\\n Also, if you return any code would you please format it in a code block that I can copy and paste and exclude any docstrings, or comments that are not relevant to the issue? Thank you!\"\n",
    "# ask the user to paste their code into the text file: `code_to_debug.txt` and then run the next cell\n",
    "print(\"1. Please paste your code into the text file: `code_to_debug.txt`\")\n",
    "print(\"2. Paste the error message you are getting into the text file: `error_message.txt` and then run the next cell\")\n",
    "ready = input(\"Are you ready to continue? (y/n)\")"
   ]
  },
  {
   "cell_type": "code",
   "execution_count": 6,
   "metadata": {},
   "outputs": [
    {
     "name": "stdout",
     "output_type": "stream",
     "text": [
      "You are a professional Python developer with experience using VSCode and the libraries:Would you mind taking a look at my code above and this error message? -> ---------------------------------------------------------------------------\n",
      "IndexError                                Traceback (most recent call last)\n",
      "Cell In[12], line 2\n",
      "      1 # Read in the data\n",
      "----> 2 dfs = read_xlsx(file_path)\n",
      "      3 # show one of the dataframes head\n",
      "      4 dfs\n",
      "\n",
      "Cell In[10], line 26, in read_xlsx(file_path)\n",
      "     23 df = pd.read_excel(xlsx, sheet_name=sheet)\n",
      "     25 # Get the second row of the dataframe\n",
      "---> 26 second_row = df.iloc[1]\n",
      "     28 # Get the first row of the dataframe\n",
      "     29 first_row = df.iloc[0]\n",
      "\n",
      "File /opt/anaconda3/envs/groupme/lib/python3.9/site-packages/pandas/core/indexing.py:1073, in _LocationIndexer.__getitem__(self, key)\n",
      "   1070 axis = self.axis or 0\n",
      "   1072 maybe_callable = com.apply_if_callable(key, self.obj)\n",
      "-> 1073 return self._getitem_axis(maybe_callable, axis=axis)\n",
      "\n",
      "File /opt/anaconda3/envs/groupme/lib/python3.9/site-packages/pandas/core/indexing.py:1625, in _iLocIndexer._getitem_axis(self, key, axis)\n",
      "   1622     raise TypeError(\"Cannot index by location index with a non-integer key\")\n",
      "   1624 # validate the location\n",
      "-> 1625 self._validate_integer(key, axis)\n",
      "   1627 return self.obj._ixs(key, axis=axis)\n",
      "\n",
      "File /opt/anaconda3/envs/groupme/lib/python3.9/site-packages/pandas/core/indexing.py:1557, in _iLocIndexer._validate_integer(self, key, axis)\n",
      "   1555 len_axis = len(self.obj._get_axis(axis))\n",
      "   1556 if key >= len_axis or key < -len_axis:\n",
      "-> 1557     raise IndexError(\"single positional indexer is out-of-bounds\")\n",
      "\n",
      "IndexError: single positional indexer is out-of-bounds \n",
      " If you are able to fix this issue could you please explain what you did and why it worked? Thank you so much!\n",
      " Also, if you return any code would you please format it in a code block that I can copy and paste and exclude any docstrings, or comments that are not relevant to the issue? Thank you!\n"
     ]
    }
   ],
   "source": [
    "with open(\"code_to_debug.txt\", \"r\") as f:\n",
    "    mycode = f.read()\n",
    "with open(\"error_message.txt\", \"r\") as f:\n",
    "    error_message = f.read()\n",
    "# create the prompt\n",
    "prompt = preface + \", \".join(libraries) + ending.format(error_message)\n",
    "print(prompt)"
   ]
  }
 ],
 "metadata": {
  "kernelspec": {
   "display_name": "groupme",
   "language": "python",
   "name": "python3"
  },
  "language_info": {
   "codemirror_mode": {
    "name": "ipython",
    "version": 3
   },
   "file_extension": ".py",
   "mimetype": "text/x-python",
   "name": "python",
   "nbconvert_exporter": "python",
   "pygments_lexer": "ipython3",
   "version": "3.9.6"
  },
  "orig_nbformat": 4,
  "vscode": {
   "interpreter": {
    "hash": "28dd76f97a2595215b3511d9563b8125e93469ee739d17a6b25584482d270cb8"
   }
  }
 },
 "nbformat": 4,
 "nbformat_minor": 2
}
