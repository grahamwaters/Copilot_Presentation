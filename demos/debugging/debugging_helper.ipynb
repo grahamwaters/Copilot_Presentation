{
 "cells": [
  {
   "cell_type": "code",
   "execution_count": 2,
   "metadata": {},
   "outputs": [
    {
     "name": "stdout",
     "output_type": "stream",
     "text": [
      "1. Please paste your code into the text file: `code_to_debug.txt`\n",
      "2. Paste the error message you are getting into the text file: `error_message.txt` and then run the next cell\n"
     ]
    }
   ],
   "source": [
    "# Debugging Helper for chatGPT prompting\n",
    "import re\n",
    "preface = \"You are a professional Python developer with experience using VSCode and the libraries:\"\n",
    "mycode = \"\" # code to be debugged\n",
    "libraries = \"\" # libraries used in the code line above, separated by commas extract these using regex\n",
    "libraries = re.findall(r\"import\\s(\\w+)\", mycode.replace('\\n', ' ')) # extract libraries from code above\n",
    "ending = \"Would you mind taking a look at my code above and this error message? -> {} \\n If you are able to fix this issue could you please explain what you did and why it worked? Thank you so much!\\n Also, if you return any code would you please format it in a code block that I can copy and paste and exclude any docstrings, or comments that are not relevant to the issue? Thank you!\"\n",
    "# ask the user to paste their code into the text file: `code_to_debug.txt` and then run the next cell\n",
    "print(\"1. Please paste your code into the text file: `code_to_debug.txt`\")\n",
    "print(\"2. Paste the error message you are getting into the text file: `error_message.txt` and then run the next cell\")\n",
    "ready = input(\"Are you ready to continue? (y/n)\")"
   ]
  },
  {
   "cell_type": "code",
   "execution_count": 4,
   "metadata": {},
   "outputs": [
    {
     "name": "stdout",
     "output_type": "stream",
     "text": [
      "You are a professional Python developer with experience using VSCode and the libraries:Would you mind taking a look at my code above and this error message? -> ---------------------------------------------------------------------------\n",
      "KeyError                                  Traceback (most recent call last)\n",
      "File /opt/anaconda3/envs/groupme/lib/python3.9/site-packages/pandas/core/indexes/base.py:3803, in Index.get_loc(self, key, method, tolerance)\n",
      "   3802 try:\n",
      "-> 3803     return self._engine.get_loc(casted_key)\n",
      "   3804 except KeyError as err:\n",
      "\n",
      "File /opt/anaconda3/envs/groupme/lib/python3.9/site-packages/pandas/_libs/index.pyx:138, in pandas._libs.index.IndexEngine.get_loc()\n",
      "\n",
      "File /opt/anaconda3/envs/groupme/lib/python3.9/site-packages/pandas/_libs/index.pyx:165, in pandas._libs.index.IndexEngine.get_loc()\n",
      "\n",
      "File pandas/_libs/hashtable_class_helper.pxi:5745, in pandas._libs.hashtable.PyObjectHashTable.get_item()\n",
      "\n",
      "File pandas/_libs/hashtable_class_helper.pxi:5753, in pandas._libs.hashtable.PyObjectHashTable.get_item()\n",
      "\n",
      "KeyError: 'ID'\n",
      "\n",
      "The above exception was the direct cause of the following exception:\n",
      "\n",
      "KeyError                                  Traceback (most recent call last)\n",
      "Cell In[6], line 2\n",
      "      1 # Read in the data\n",
      "----> 2 dfs = read_xlsx(file_path)\n",
      "      3 # show one of the dataframes head\n",
      "      4 dfs[\"Categories\"].head()\n",
      "\n",
      "Cell In[5], line 48, in read_xlsx(file_path)\n",
      "     45     col_type = type(second_row[col])\n",
      "     47     # Cast the column to the type of the second row value\n",
      "---> 48     df[col] = df[col].astype(col_type)\n",
      "     50 # Create a folder for the sheet if it doesn't exist\n",
      "     51 os.makedirs(f\"../data/processed/extracted_dfs/{sheet}\", exist_ok=True)\n",
      "\n",
      "File /opt/anaconda3/envs/groupme/lib/python3.9/site-packages/pandas/core/frame.py:3805, in DataFrame.__getitem__(self, key)\n",
      "   3803 if self.columns.nlevels > 1:\n",
      "   3804     return self._getitem_multilevel(key)\n",
      "-> 3805 indexer = self.columns.get_loc(key)\n",
      "   3806 if is_integer(indexer):\n",
      "   3807     indexer = [indexer]\n",
      "\n",
      "File /opt/anaconda3/envs/groupme/lib/python3.9/site-packages/pandas/core/indexes/base.py:3805, in Index.get_loc(self, key, method, tolerance)\n",
      "   3803     return self._engine.get_loc(casted_key)\n",
      "   3804 except KeyError as err:\n",
      "-> 3805     raise KeyError(key) from err\n",
      "   3806 except TypeError:\n",
      "   3807     # If we have a listlike key, _check_indexing_error will raise\n",
      "   3808     #  InvalidIndexError. Otherwise we fall through and re-raise\n",
      "   3809     #  the TypeError.\n",
      "   3810     self._check_indexing_error(key)\n",
      "\n",
      "KeyError: 'ID' \n",
      " If you are able to fix this issue could you please explain what you did and why it worked? Thank you so much!\n",
      " Also, if you return any code would you please format it in a code block that I can copy and paste and exclude any docstrings, or comments that are not relevant to the issue? Thank you!\n"
     ]
    }
   ],
   "source": [
    "with open(\"code_to_debug.txt\", \"r\") as f:\n",
    "    mycode = f.read()\n",
    "with open(\"error_message.txt\", \"r\") as f:\n",
    "    error_message = f.read()\n",
    "# create the prompt\n",
    "prompt = preface + \", \".join(libraries) + ending.format(error_message)\n",
    "print(prompt)"
   ]
  }
 ],
 "metadata": {
  "kernelspec": {
   "display_name": "groupme",
   "language": "python",
   "name": "python3"
  },
  "language_info": {
   "codemirror_mode": {
    "name": "ipython",
    "version": 3
   },
   "file_extension": ".py",
   "mimetype": "text/x-python",
   "name": "python",
   "nbconvert_exporter": "python",
   "pygments_lexer": "ipython3",
   "version": "3.9.6"
  },
  "orig_nbformat": 4,
  "vscode": {
   "interpreter": {
    "hash": "28dd76f97a2595215b3511d9563b8125e93469ee739d17a6b25584482d270cb8"
   }
  }
 },
 "nbformat": 4,
 "nbformat_minor": 2
}
