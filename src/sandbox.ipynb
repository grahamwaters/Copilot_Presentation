{
 "cells": [
  {
   "cell_type": "code",
   "execution_count": 7,
   "metadata": {},
   "outputs": [
    {
     "name": "stdout",
     "output_type": "stream",
     "text": [
      "begin\n"
     ]
    }
   ],
   "source": [
    "print(\"begin\")"
   ]
  },
  {
   "cell_type": "code",
   "execution_count": 10,
   "metadata": {},
   "outputs": [],
   "source": [
    "# imports for this function\n",
    "import os, pandas as pd, numpy as np\n",
    "# define the path to the data\n",
    "file_path = \"../data/raw/NorthwindTradersTables.xlsx\"\n",
    "\n",
    "def read_xlsx(file_path):\n",
    "    \"\"\"\n",
    "    read_xlsx is a function that reads an XLSX file and returns dataframes where each sheet is a dataframe, each column of each df should be type-cast based on the values from the corresponding sheet in the second row, and the column names are in the first row. The function should save these dataframes in a folder called `extracted_dfs` with each sheet in its own folder named after the sheet's name in the file. Within these folders, the function should save the dataframe as a pickle file. The function should return a dictionary with the sheet names as keys and the dataframe information as values.\n",
    "\n",
    "    The libraries used in this function are: `os`, `pandas`, `numpy`.\n",
    "    \"\"\"\n",
    "    # Read in the file\n",
    "    with pd.ExcelFile(file_path) as xlsx:\n",
    "        # Get the sheet names\n",
    "        sheet_names = xlsx.sheet_names\n",
    "\n",
    "        # Create an empty dictionary to store the dataframes\n",
    "        dfs = {}\n",
    "\n",
    "        # Iterate through the sheets\n",
    "        for sheet in sheet_names:\n",
    "            # Get the dataframe from the sheet\n",
    "            df = pd.read_excel(xlsx, sheet_name=sheet)\n",
    "\n",
    "            # Get the second row of the dataframe\n",
    "            second_row = df.iloc[1]\n",
    "\n",
    "            # Get the first row of the dataframe\n",
    "            first_row = df.iloc[0]\n",
    "\n",
    "            # Get the column names from the first row\n",
    "            df.columns = first_row\n",
    "\n",
    "            # Drop the first two rows\n",
    "            df = df.iloc[2:]\n",
    "\n",
    "            # Iterate through the columns in the second row\n",
    "            for col in second_row.index:\n",
    "                # Get the type of the value in the second row\n",
    "                col_type = type(second_row[col])\n",
    "\n",
    "                try:\n",
    "                    df[col] = df[col].astype(col_type)\n",
    "                except KeyError:\n",
    "                    print(f\"Column {col} doesn't exist in the DataFrame\")\n",
    "\n",
    "            # Create a folder for the sheet if it doesn't exist\n",
    "            os.makedirs(f\"../data/processed/extracted_dfs/{sheet}\", exist_ok=True)\n",
    "\n",
    "            # Save the dataframe as a pickle file in the sheet folder\n",
    "            df.to_pickle(f\"../data/processed/extracted_dfs/{sheet}/{sheet}.pkl\")\n",
    "\n",
    "            # Add the dataframe to the dictionary\n",
    "            dfs[sheet] = df\n",
    "\n",
    "    # Return the dictionary\n",
    "    return dfs"
   ]
  },
  {
   "cell_type": "code",
   "execution_count": 12,
   "metadata": {},
   "outputs": [
    {
     "name": "stdout",
     "output_type": "stream",
     "text": [
      "Column ID doesn't exist in the DataFrame\n",
      "Column Company doesn't exist in the DataFrame\n",
      "Column Last Name doesn't exist in the DataFrame\n",
      "Column First Name doesn't exist in the DataFrame\n",
      "Column E-mail Address doesn't exist in the DataFrame\n",
      "Column Job Title doesn't exist in the DataFrame\n",
      "Column Business Phone doesn't exist in the DataFrame\n",
      "Column Home Phone doesn't exist in the DataFrame\n",
      "Column Mobile Phone doesn't exist in the DataFrame\n",
      "Column Fax Number doesn't exist in the DataFrame\n",
      "Column Address doesn't exist in the DataFrame\n",
      "Column City doesn't exist in the DataFrame\n",
      "Column State/Province doesn't exist in the DataFrame\n",
      "Column ZIP/Postal Code doesn't exist in the DataFrame\n",
      "Column Country/Region doesn't exist in the DataFrame\n",
      "Column Web Page doesn't exist in the DataFrame\n",
      "Column Notes doesn't exist in the DataFrame\n",
      "Column Attachments doesn't exist in the DataFrame\n"
     ]
    },
    {
     "ename": "IndexError",
     "evalue": "single positional indexer is out-of-bounds",
     "output_type": "error",
     "traceback": [
      "\u001b[0;31m---------------------------------------------------------------------------\u001b[0m",
      "\u001b[0;31mIndexError\u001b[0m                                Traceback (most recent call last)",
      "Cell \u001b[0;32mIn[12], line 2\u001b[0m\n\u001b[1;32m      1\u001b[0m \u001b[39m# Read in the data\u001b[39;00m\n\u001b[0;32m----> 2\u001b[0m dfs \u001b[39m=\u001b[39m read_xlsx(file_path)\n\u001b[1;32m      3\u001b[0m \u001b[39m# show one of the dataframes head\u001b[39;00m\n\u001b[1;32m      4\u001b[0m dfs\n",
      "Cell \u001b[0;32mIn[10], line 26\u001b[0m, in \u001b[0;36mread_xlsx\u001b[0;34m(file_path)\u001b[0m\n\u001b[1;32m     23\u001b[0m df \u001b[39m=\u001b[39m pd\u001b[39m.\u001b[39mread_excel(xlsx, sheet_name\u001b[39m=\u001b[39msheet)\n\u001b[1;32m     25\u001b[0m \u001b[39m# Get the second row of the dataframe\u001b[39;00m\n\u001b[0;32m---> 26\u001b[0m second_row \u001b[39m=\u001b[39m df\u001b[39m.\u001b[39;49miloc[\u001b[39m1\u001b[39;49m]\n\u001b[1;32m     28\u001b[0m \u001b[39m# Get the first row of the dataframe\u001b[39;00m\n\u001b[1;32m     29\u001b[0m first_row \u001b[39m=\u001b[39m df\u001b[39m.\u001b[39miloc[\u001b[39m0\u001b[39m]\n",
      "File \u001b[0;32m/opt/anaconda3/envs/groupme/lib/python3.9/site-packages/pandas/core/indexing.py:1073\u001b[0m, in \u001b[0;36m_LocationIndexer.__getitem__\u001b[0;34m(self, key)\u001b[0m\n\u001b[1;32m   1070\u001b[0m axis \u001b[39m=\u001b[39m \u001b[39mself\u001b[39m\u001b[39m.\u001b[39maxis \u001b[39mor\u001b[39;00m \u001b[39m0\u001b[39m\n\u001b[1;32m   1072\u001b[0m maybe_callable \u001b[39m=\u001b[39m com\u001b[39m.\u001b[39mapply_if_callable(key, \u001b[39mself\u001b[39m\u001b[39m.\u001b[39mobj)\n\u001b[0;32m-> 1073\u001b[0m \u001b[39mreturn\u001b[39;00m \u001b[39mself\u001b[39;49m\u001b[39m.\u001b[39;49m_getitem_axis(maybe_callable, axis\u001b[39m=\u001b[39;49maxis)\n",
      "File \u001b[0;32m/opt/anaconda3/envs/groupme/lib/python3.9/site-packages/pandas/core/indexing.py:1625\u001b[0m, in \u001b[0;36m_iLocIndexer._getitem_axis\u001b[0;34m(self, key, axis)\u001b[0m\n\u001b[1;32m   1622\u001b[0m     \u001b[39mraise\u001b[39;00m \u001b[39mTypeError\u001b[39;00m(\u001b[39m\"\u001b[39m\u001b[39mCannot index by location index with a non-integer key\u001b[39m\u001b[39m\"\u001b[39m)\n\u001b[1;32m   1624\u001b[0m \u001b[39m# validate the location\u001b[39;00m\n\u001b[0;32m-> 1625\u001b[0m \u001b[39mself\u001b[39;49m\u001b[39m.\u001b[39;49m_validate_integer(key, axis)\n\u001b[1;32m   1627\u001b[0m \u001b[39mreturn\u001b[39;00m \u001b[39mself\u001b[39m\u001b[39m.\u001b[39mobj\u001b[39m.\u001b[39m_ixs(key, axis\u001b[39m=\u001b[39maxis)\n",
      "File \u001b[0;32m/opt/anaconda3/envs/groupme/lib/python3.9/site-packages/pandas/core/indexing.py:1557\u001b[0m, in \u001b[0;36m_iLocIndexer._validate_integer\u001b[0;34m(self, key, axis)\u001b[0m\n\u001b[1;32m   1555\u001b[0m len_axis \u001b[39m=\u001b[39m \u001b[39mlen\u001b[39m(\u001b[39mself\u001b[39m\u001b[39m.\u001b[39mobj\u001b[39m.\u001b[39m_get_axis(axis))\n\u001b[1;32m   1556\u001b[0m \u001b[39mif\u001b[39;00m key \u001b[39m>\u001b[39m\u001b[39m=\u001b[39m len_axis \u001b[39mor\u001b[39;00m key \u001b[39m<\u001b[39m \u001b[39m-\u001b[39mlen_axis:\n\u001b[0;32m-> 1557\u001b[0m     \u001b[39mraise\u001b[39;00m \u001b[39mIndexError\u001b[39;00m(\u001b[39m\"\u001b[39m\u001b[39msingle positional indexer is out-of-bounds\u001b[39m\u001b[39m\"\u001b[39m)\n",
      "\u001b[0;31mIndexError\u001b[0m: single positional indexer is out-of-bounds"
     ]
    }
   ],
   "source": [
    "# Read in the data\n",
    "dfs = read_xlsx(file_path)\n",
    "# show one of the dataframes head\n",
    "dfs"
   ]
  }
 ],
 "metadata": {
  "kernelspec": {
   "display_name": "groupme",
   "language": "python",
   "name": "python3"
  },
  "language_info": {
   "codemirror_mode": {
    "name": "ipython",
    "version": 3
   },
   "file_extension": ".py",
   "mimetype": "text/x-python",
   "name": "python",
   "nbconvert_exporter": "python",
   "pygments_lexer": "ipython3",
   "version": "3.9.6"
  },
  "orig_nbformat": 4,
  "vscode": {
   "interpreter": {
    "hash": "28dd76f97a2595215b3511d9563b8125e93469ee739d17a6b25584482d270cb8"
   }
  }
 },
 "nbformat": 4,
 "nbformat_minor": 2
}
