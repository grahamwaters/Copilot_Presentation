{
 "cells": [
  {
   "cell_type": "code",
   "execution_count": 1,
   "metadata": {},
   "outputs": [
    {
     "name": "stdout",
     "output_type": "stream",
     "text": [
      "begin\n"
     ]
    }
   ],
   "source": [
    "print(\"begin\")"
   ]
  },
  {
   "cell_type": "code",
   "execution_count": 5,
   "metadata": {},
   "outputs": [],
   "source": [
    "# imports for this function\n",
    "import os, pandas as pd, numpy as np\n",
    "# define the path to the data\n",
    "file_path = \"../data/raw/NorthwindTradersTables.xlsx\"\n",
    "\n",
    "def read_xlsx(file_path):\n",
    "    \"\"\"\n",
    "    read_xlsx is a function that reads an XLSX file and returns dataframes where each sheet is a dataframe, each column of each df should be type-cast based on the values from the corresponding sheet in the second row, and the column names are in the first row. The function should save these dataframes in a folder called `extracted_dfs` with each sheet in its own folder named after the sheet's name in the file. Within these folders, the function should save the dataframe as a pickle file. The function should return a dictionary with the sheet names as keys and the dataframe information as values.\n",
    "\n",
    "    The libraries used in this function are: `os`, `pandas`, `numpy`.\n",
    "\n",
    "    :param file_path: _description_\n",
    "    :type file_path: _type_\n",
    "    :return: _description_\n",
    "    :rtype: _type_\n",
    "    \"\"\"\n",
    "    # Read in the file\n",
    "    with pd.ExcelFile(file_path) as xlsx:\n",
    "        # Get the sheet names\n",
    "        sheet_names = xlsx.sheet_names\n",
    "\n",
    "        # Create an empty dictionary to store the dataframes\n",
    "        dfs = {}\n",
    "\n",
    "        # Iterate through the sheets\n",
    "        for sheet in sheet_names:\n",
    "            # Get the dataframe from the sheet\n",
    "            df = pd.read_excel(xlsx, sheet_name=sheet)\n",
    "\n",
    "            # Get the second row of the dataframe\n",
    "            second_row = df.iloc[1]\n",
    "\n",
    "            # Get the first row of the dataframe\n",
    "            first_row = df.iloc[0]\n",
    "\n",
    "            # Get the column names from the first row\n",
    "            df.columns = first_row\n",
    "\n",
    "            # Drop the first two rows\n",
    "            df = df.iloc[2:]\n",
    "\n",
    "            # Iterate through the columns in the second row\n",
    "            for col in second_row.index:\n",
    "                # Get the type of the value in the second row\n",
    "                col_type = type(second_row[col])\n",
    "\n",
    "                # Cast the column to the type of the second row value\n",
    "                df[col] = df[col].astype(col_type)\n",
    "\n",
    "            # Create a folder for the sheet if it doesn't exist\n",
    "            os.makedirs(f\"../data/processed/extracted_dfs/{sheet}\", exist_ok=True)\n",
    "\n",
    "            # Save the dataframe as a pickle file in the sheet folder\n",
    "            df.to_pickle(f\"../data/processed/extracted_dfs/{sheet}/{sheet}.pkl\")\n",
    "\n",
    "            # Add the dataframe to the dictionary\n",
    "            dfs[sheet] = df\n",
    "\n",
    "    # Return the dictionary\n",
    "    return dfs"
   ]
  },
  {
   "cell_type": "code",
   "execution_count": 6,
   "metadata": {},
   "outputs": [
    {
     "ename": "KeyError",
     "evalue": "'ID'",
     "output_type": "error",
     "traceback": [
      "\u001b[0;31m---------------------------------------------------------------------------\u001b[0m",
      "\u001b[0;31mKeyError\u001b[0m                                  Traceback (most recent call last)",
      "File \u001b[0;32m/opt/anaconda3/envs/groupme/lib/python3.9/site-packages/pandas/core/indexes/base.py:3803\u001b[0m, in \u001b[0;36mIndex.get_loc\u001b[0;34m(self, key, method, tolerance)\u001b[0m\n\u001b[1;32m   3802\u001b[0m \u001b[39mtry\u001b[39;00m:\n\u001b[0;32m-> 3803\u001b[0m     \u001b[39mreturn\u001b[39;00m \u001b[39mself\u001b[39;49m\u001b[39m.\u001b[39;49m_engine\u001b[39m.\u001b[39;49mget_loc(casted_key)\n\u001b[1;32m   3804\u001b[0m \u001b[39mexcept\u001b[39;00m \u001b[39mKeyError\u001b[39;00m \u001b[39mas\u001b[39;00m err:\n",
      "File \u001b[0;32m/opt/anaconda3/envs/groupme/lib/python3.9/site-packages/pandas/_libs/index.pyx:138\u001b[0m, in \u001b[0;36mpandas._libs.index.IndexEngine.get_loc\u001b[0;34m()\u001b[0m\n",
      "File \u001b[0;32m/opt/anaconda3/envs/groupme/lib/python3.9/site-packages/pandas/_libs/index.pyx:165\u001b[0m, in \u001b[0;36mpandas._libs.index.IndexEngine.get_loc\u001b[0;34m()\u001b[0m\n",
      "File \u001b[0;32mpandas/_libs/hashtable_class_helper.pxi:5745\u001b[0m, in \u001b[0;36mpandas._libs.hashtable.PyObjectHashTable.get_item\u001b[0;34m()\u001b[0m\n",
      "File \u001b[0;32mpandas/_libs/hashtable_class_helper.pxi:5753\u001b[0m, in \u001b[0;36mpandas._libs.hashtable.PyObjectHashTable.get_item\u001b[0;34m()\u001b[0m\n",
      "\u001b[0;31mKeyError\u001b[0m: 'ID'",
      "\nThe above exception was the direct cause of the following exception:\n",
      "\u001b[0;31mKeyError\u001b[0m                                  Traceback (most recent call last)",
      "Cell \u001b[0;32mIn[6], line 2\u001b[0m\n\u001b[1;32m      1\u001b[0m \u001b[39m# Read in the data\u001b[39;00m\n\u001b[0;32m----> 2\u001b[0m dfs \u001b[39m=\u001b[39m read_xlsx(file_path)\n\u001b[1;32m      3\u001b[0m \u001b[39m# show one of the dataframes head\u001b[39;00m\n\u001b[1;32m      4\u001b[0m dfs[\u001b[39m\"\u001b[39m\u001b[39mCategories\u001b[39m\u001b[39m\"\u001b[39m]\u001b[39m.\u001b[39mhead()\n",
      "Cell \u001b[0;32mIn[5], line 48\u001b[0m, in \u001b[0;36mread_xlsx\u001b[0;34m(file_path)\u001b[0m\n\u001b[1;32m     45\u001b[0m     col_type \u001b[39m=\u001b[39m \u001b[39mtype\u001b[39m(second_row[col])\n\u001b[1;32m     47\u001b[0m     \u001b[39m# Cast the column to the type of the second row value\u001b[39;00m\n\u001b[0;32m---> 48\u001b[0m     df[col] \u001b[39m=\u001b[39m df[col]\u001b[39m.\u001b[39mastype(col_type)\n\u001b[1;32m     50\u001b[0m \u001b[39m# Create a folder for the sheet if it doesn't exist\u001b[39;00m\n\u001b[1;32m     51\u001b[0m os\u001b[39m.\u001b[39mmakedirs(\u001b[39mf\u001b[39m\u001b[39m\"\u001b[39m\u001b[39m../data/processed/extracted_dfs/\u001b[39m\u001b[39m{\u001b[39;00msheet\u001b[39m}\u001b[39;00m\u001b[39m\"\u001b[39m, exist_ok\u001b[39m=\u001b[39m\u001b[39mTrue\u001b[39;00m)\n",
      "File \u001b[0;32m/opt/anaconda3/envs/groupme/lib/python3.9/site-packages/pandas/core/frame.py:3805\u001b[0m, in \u001b[0;36mDataFrame.__getitem__\u001b[0;34m(self, key)\u001b[0m\n\u001b[1;32m   3803\u001b[0m \u001b[39mif\u001b[39;00m \u001b[39mself\u001b[39m\u001b[39m.\u001b[39mcolumns\u001b[39m.\u001b[39mnlevels \u001b[39m>\u001b[39m \u001b[39m1\u001b[39m:\n\u001b[1;32m   3804\u001b[0m     \u001b[39mreturn\u001b[39;00m \u001b[39mself\u001b[39m\u001b[39m.\u001b[39m_getitem_multilevel(key)\n\u001b[0;32m-> 3805\u001b[0m indexer \u001b[39m=\u001b[39m \u001b[39mself\u001b[39;49m\u001b[39m.\u001b[39;49mcolumns\u001b[39m.\u001b[39;49mget_loc(key)\n\u001b[1;32m   3806\u001b[0m \u001b[39mif\u001b[39;00m is_integer(indexer):\n\u001b[1;32m   3807\u001b[0m     indexer \u001b[39m=\u001b[39m [indexer]\n",
      "File \u001b[0;32m/opt/anaconda3/envs/groupme/lib/python3.9/site-packages/pandas/core/indexes/base.py:3805\u001b[0m, in \u001b[0;36mIndex.get_loc\u001b[0;34m(self, key, method, tolerance)\u001b[0m\n\u001b[1;32m   3803\u001b[0m     \u001b[39mreturn\u001b[39;00m \u001b[39mself\u001b[39m\u001b[39m.\u001b[39m_engine\u001b[39m.\u001b[39mget_loc(casted_key)\n\u001b[1;32m   3804\u001b[0m \u001b[39mexcept\u001b[39;00m \u001b[39mKeyError\u001b[39;00m \u001b[39mas\u001b[39;00m err:\n\u001b[0;32m-> 3805\u001b[0m     \u001b[39mraise\u001b[39;00m \u001b[39mKeyError\u001b[39;00m(key) \u001b[39mfrom\u001b[39;00m \u001b[39merr\u001b[39;00m\n\u001b[1;32m   3806\u001b[0m \u001b[39mexcept\u001b[39;00m \u001b[39mTypeError\u001b[39;00m:\n\u001b[1;32m   3807\u001b[0m     \u001b[39m# If we have a listlike key, _check_indexing_error will raise\u001b[39;00m\n\u001b[1;32m   3808\u001b[0m     \u001b[39m#  InvalidIndexError. Otherwise we fall through and re-raise\u001b[39;00m\n\u001b[1;32m   3809\u001b[0m     \u001b[39m#  the TypeError.\u001b[39;00m\n\u001b[1;32m   3810\u001b[0m     \u001b[39mself\u001b[39m\u001b[39m.\u001b[39m_check_indexing_error(key)\n",
      "\u001b[0;31mKeyError\u001b[0m: 'ID'"
     ]
    }
   ],
   "source": [
    "# Read in the data\n",
    "dfs = read_xlsx(file_path)\n",
    "# show one of the dataframes head\n",
    "dfs[\"Categories\"].head()"
   ]
  }
 ],
 "metadata": {
  "kernelspec": {
   "display_name": "groupme",
   "language": "python",
   "name": "python3"
  },
  "language_info": {
   "codemirror_mode": {
    "name": "ipython",
    "version": 3
   },
   "file_extension": ".py",
   "mimetype": "text/x-python",
   "name": "python",
   "nbconvert_exporter": "python",
   "pygments_lexer": "ipython3",
   "version": "3.9.6"
  },
  "orig_nbformat": 4,
  "vscode": {
   "interpreter": {
    "hash": "28dd76f97a2595215b3511d9563b8125e93469ee739d17a6b25584482d270cb8"
   }
  }
 },
 "nbformat": 4,
 "nbformat_minor": 2
}
