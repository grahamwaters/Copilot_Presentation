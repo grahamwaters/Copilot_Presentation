{
 "cells": [
  {
   "cell_type": "code",
   "execution_count": null,
   "metadata": {},
   "outputs": [],
   "source": [
    "import pandas as pd\n",
    "import numpy as np\n",
    "import matplotlib.pyplot as plt\n",
    "import seaborn as sns\n",
    "import os\n",
    "\n",
    "# Load the data from the data folder into pandas dataframes organized into folders that are named by the following convention: \"../data/{day}/{file_set}/{file_name}\""
   ]
  },
  {
   "attachments": {},
   "cell_type": "markdown",
   "metadata": {},
   "source": [
    "# example_repo\n",
    "\n",
    "* [data/](./example_repo/data)\n",
    "  * [ext.00013057.0000000000000000.20230201.032307367.2_Day_AS_Disclosure/](./example_repo/data/ext.00013057.0000000000000000.20230201.032307367.2_Day_AS_Disclosure)\n",
    "    * [2d_Agg_AS_Offers_OFFNS-01-FEB-23.csv](./example_repo/data/ext.00013057.0000000000000000.20230201.032307367.2_Day_AS_Disclosure/2d_Agg_AS_Offers_OFFNS-01-FEB-23.csv)\n",
    "    * [2d_Agg_AS_Offers_ONNS-01-FEB-23.csv](./example_repo/data/ext.00013057.0000000000000000.20230201.032307367.2_Day_AS_Disclosure/2d_Agg_AS_Offers_ONNS-01-FEB-23.csv)\n",
    "    * [2d_Agg_AS_Offers_REGDN-01-FEB-23.csv](./example_repo/data/ext.00013057.0000000000000000.20230201.032307367.2_Day_AS_Disclosure/2d_Agg_AS_Offers_REGDN-01-FEB-23.csv)\n",
    "    * [2d_Agg_AS_Offers_REGUP-01-FEB-23.csv](./example_repo/data/ext.00013057.0000000000000000.20230201.032307367.2_Day_AS_Disclosure/2d_Agg_AS_Offers_REGUP-01-FEB-23.csv)\n",
    "    * [2d_Agg_AS_Offers_RRSFFR-01-FEB-23.csv](./example_repo/data/ext.00013057.0000000000000000.20230201.032307367.2_Day_AS_Disclosure/2d_Agg_AS_Offers_RRSFFR-01-FEB-23.csv)\n",
    "    * [2d_Agg_AS_Offers_RRSPFR-01-FEB-23.csv](./example_repo/data/ext.00013057.0000000000000000.20230201.032307367.2_Day_AS_Disclosure/2d_Agg_AS_Offers_RRSPFR-01-FEB-23.csv)\n",
    "    * [2d_Agg_AS_Offers_RRSUFR-01-FEB-23.csv](./example_repo/data/ext.00013057.0000000000000000.20230201.032307367.2_Day_AS_Disclosure/2d_Agg_AS_Offers_RRSUFR-01-FEB-23.csv)\n",
    "    * [2d_Cleared_DAM_AS_NSPIN-01-FEB-23.csv](./example_repo/data/ext.00013057.0000000000000000.20230201.032307367.2_Day_AS_Disclosure/2d_Cleared_DAM_AS_NSPIN-01-FEB-23.csv)\n",
    "    * [2d_Cleared_DAM_AS_REGDN-01-FEB-23.csv](./example_repo/data/ext.00013057.0000000000000000.20230201.032307367.2_Day_AS_Disclosure/2d_Cleared_DAM_AS_REGDN-01-FEB-23.csv)\n",
    "    * [2d_Cleared_DAM_AS_REGUP-01-FEB-23.csv](./example_repo/data/ext.00013057.0000000000000000.20230201.032307367.2_Day_AS_Disclosure/2d_Cleared_DAM_AS_REGUP-01-FEB-23.csv)\n",
    "    * [2d_Cleared_DAM_AS_RRSFFR-01-FEB-23.csv](./example_repo/data/ext.00013057.0000000000000000.20230201.032307367.2_Day_AS_Disclosure/2d_Cleared_DAM_AS_RRSFFR-01-FEB-23.csv)\n",
    "    * [2d_Cleared_DAM_AS_RRSPFR-01-FEB-23.csv](./example_repo/data/ext.00013057.0000000000000000.20230201.032307367.2_Day_AS_Disclosure/2d_Cleared_DAM_AS_RRSPFR-01-FEB-23.csv)\n",
    "    * [2d_Cleared_DAM_AS_RRSUFR-01-FEB-23.csv](./example_repo/data/ext.00013057.0000000000000000.20230201.032307367.2_Day_AS_Disclosure/2d_Cleared_DAM_AS_RRSUFR-01-FEB-23.csv)\n",
    "    * [2d_Self_Arranged_AS_NSPIN-01-FEB-23.csv](./example_repo/data/ext.00013057.0000000000000000.20230201.032307367.2_Day_AS_Disclosure/2d_Self_Arranged_AS_NSPIN-01-FEB-23.csv)\n",
    "    * [2d_Self_Arranged_AS_NSPNM-01-FEB-23.csv](./example_repo/data/ext.00013057.0000000000000000.20230201.032307367.2_Day_AS_Disclosure/2d_Self_Arranged_AS_NSPNM-01-FEB-23.csv)\n",
    "    * [2d_Self_Arranged_AS_REGDN-01-FEB-23.csv](./example_repo/data/ext.00013057.0000000000000000.20230201.032307367.2_Day_AS_Disclosure/2d_Self_Arranged_AS_REGDN-01-FEB-23.csv)\n",
    "    * [2d_Self_Arranged_AS_REGUP-01-FEB-23.csv](./example_repo/data/ext.00013057.0000000000000000.20230201.032307367.2_Day_AS_Disclosure/2d_Self_Arranged_AS_REGUP-01-FEB-23.csv)\n",
    "    * [2d_Self_Arranged_AS_RRSFFR-01-FEB-23.csv](./example_repo/data/ext.00013057.0000000000000000.20230201.032307367.2_Day_AS_Disclosure/2d_Self_Arranged_AS_RRSFFR-01-FEB-23.csv)\n",
    "    * [2d_Self_Arranged_AS_RRSPFR-01-FEB-23.csv](./example_repo/data/ext.00013057.0000000000000000.20230201.032307367.2_Day_AS_Disclosure/2d_Self_Arranged_AS_RRSPFR-01-FEB-23.csv)\n",
    "    * [2d_Self_Arranged_AS_RRSUFR-01-FEB-23.csv](./example_repo/data/ext.00013057.0000000000000000.20230201.032307367.2_Day_AS_Disclosure/2d_Self_Arranged_AS_RRSUFR-01-FEB-23.csv)\n",
    "  * [ext.00013057.0000000000000000.20230202.032409880.2_Day_AS_Disclosure/](./example_repo/data/ext.00013057.0000000000000000.20230202.032409880.2_Day_AS_Disclosure)\n",
    "    * [2d_Agg_AS_Offers_OFFNS-02-FEB-23.csv](./example_repo/data/ext.00013057.0000000000000000.20230202.032409880.2_Day_AS_Disclosure/2d_Agg_AS_Offers_OFFNS-02-FEB-23.csv)\n",
    "    * [2d_Agg_AS_Offers_ONNS-02-FEB-23.csv](./example_repo/data/ext.00013057.0000000000000000.20230202.032409880.2_Day_AS_Disclosure/2d_Agg_AS_Offers_ONNS-02-FEB-23.csv)\n",
    "    * [2d_Agg_AS_Offers_REGDN-02-FEB-23.csv](./example_repo/data/ext.00013057.0000000000000000.20230202.032409880.2_Day_AS_Disclosure/2d_Agg_AS_Offers_REGDN-02-FEB-23.csv)\n",
    "    * [2d_Agg_AS_Offers_REGUP-02-FEB-23.csv](./example_repo/data/ext.00013057.0000000000000000.20230202.032409880.2_Day_AS_Disclosure/2d_Agg_AS_Offers_REGUP-02-FEB-23.csv)\n",
    "    * [2d_Agg_AS_Offers_RRSFFR-02-FEB-23.csv](./example_repo/data/ext.00013057.0000000000000000.20230202.032409880.2_Day_AS_Disclosure/2d_Agg_AS_Offers_RRSFFR-02-FEB-23.csv)\n",
    "    * [2d_Agg_AS_Offers_RRSPFR-02-FEB-23.csv](./example_repo/data/ext.00013057.0000000000000000.20230202.032409880.2_Day_AS_Disclosure/2d_Agg_AS_Offers_RRSPFR-02-FEB-23.csv)\n",
    "    * [2d_Agg_AS_Offers_RRSUFR-02-FEB-23.csv](./example_repo/data/ext.00013057.0000000000000000.20230202.032409880.2_Day_AS_Disclosure/2d_Agg_AS_Offers_RRSUFR-02-FEB-23.csv)\n",
    "    * [2d_Cleared_DAM_AS_NSPIN-02-FEB-23.csv](./example_repo/data/ext.00013057.0000000000000000.20230202.032409880.2_Day_AS_Disclosure/2d_Cleared_DAM_AS_NSPIN-02-FEB-23.csv)\n",
    "    * [2d_Cleared_DAM_AS_REGDN-02-FEB-23.csv](./example_repo/data/ext.00013057.0000000000000000.20230202.032409880.2_Day_AS_Disclosure/2d_Cleared_DAM_AS_REGDN-02-FEB-23.csv)\n",
    "    * [2d_Cleared_DAM_AS_REGUP-02-FEB-23.csv](./example_repo/data/ext.00013057.0000000000000000.20230202.032409880.2_Day_AS_Disclosure/2d_Cleared_DAM_AS_REGUP-02-FEB-23.csv)\n",
    "    * [2d_Cleared_DAM_AS_RRSFFR-02-FEB-23.csv](./example_repo/data/ext.00013057.0000000000000000.20230202.032409880.2_Day_AS_Disclosure/2d_Cleared_DAM_AS_RRSFFR-02-FEB-23.csv)\n",
    "    * [2d_Cleared_DAM_AS_RRSPFR-02-FEB-23.csv](./example_repo/data/ext.00013057.0000000000000000.20230202.032409880.2_Day_AS_Disclosure/2d_Cleared_DAM_AS_RRSPFR-02-FEB-23.csv)\n",
    "    * [2d_Cleared_DAM_AS_RRSUFR-02-FEB-23.csv](./example_repo/data/ext.00013057.0000000000000000.20230202.032409880.2_Day_AS_Disclosure/2d_Cleared_DAM_AS_RRSUFR-02-FEB-23.csv)\n",
    "    * [2d_Self_Arranged_AS_NSPIN-02-FEB-23.csv](./example_repo/data/ext.00013057.0000000000000000.20230202.032409880.2_Day_AS_Disclosure/2d_Self_Arranged_AS_NSPIN-02-FEB-23.csv)\n",
    "    * [2d_Self_Arranged_AS_NSPNM-02-FEB-23.csv](./example_repo/data/ext.00013057.0000000000000000.20230202.032409880.2_Day_AS_Disclosure/2d_Self_Arranged_AS_NSPNM-02-FEB-23.csv)\n",
    "    * [2d_Self_Arranged_AS_REGDN-02-FEB-23.csv](./example_repo/data/ext.00013057.0000000000000000.20230202.032409880.2_Day_AS_Disclosure/2d_Self_Arranged_AS_REGDN-02-FEB-23.csv)\n",
    "    * [2d_Self_Arranged_AS_REGUP-02-FEB-23.csv](./example_repo/data/ext.00013057.0000000000000000.20230202.032409880.2_Day_AS_Disclosure/2d_Self_Arranged_AS_REGUP-02-FEB-23.csv)\n",
    "    * [2d_Self_Arranged_AS_RRSFFR-02-FEB-23.csv](./example_repo/data/ext.00013057.0000000000000000.20230202.032409880.2_Day_AS_Disclosure/2d_Self_Arranged_AS_RRSFFR-02-FEB-23.csv)\n",
    "    * [2d_Self_Arranged_AS_RRSPFR-02-FEB-23.csv](./example_repo/data/ext.00013057.0000000000000000.20230202.032409880.2_Day_AS_Disclosure/2d_Self_Arranged_AS_RRSPFR-02-FEB-23.csv)\n",
    "    * [2d_Self_Arranged_AS_RRSUFR-02-FEB-23.csv](./example_repo/data/ext.00013057.0000000000000000.20230202.032409880.2_Day_AS_Disclosure/2d_Self_Arranged_AS_RRSUFR-02-FEB-23.csv)\n",
    "  * [ext.00013057.0000000000000000.20230203.033713363.2_Day_AS_Disclosure/](./example_repo/data/ext.00013057.0000000000000000.20230203.033713363.2_Day_AS_Disclosure)\n",
    "    * [2d_Agg_AS_Offers_OFFNS-03-FEB-23.csv](./example_repo/data/ext.00013057.0000000000000000.20230203.033713363.2_Day_AS_Disclosure/2d_Agg_AS_Offers_OFFNS-03-FEB-23.csv)\n",
    "    * [2d_Agg_AS_Offers_ONNS-03-FEB-23.csv](./example_repo/data/ext.00013057.0000000000000000.20230203.033713363.2_Day_AS_Disclosure/2d_Agg_AS_Offers_ONNS-03-FEB-23.csv)\n",
    "    * [2d_Agg_AS_Offers_REGDN-03-FEB-23.csv](./example_repo/data/ext.00013057.0000000000000000.20230203.033713363.2_Day_AS_Disclosure/2d_Agg_AS_Offers_REGDN-03-FEB-23.csv)\n",
    "    * [2d_Agg_AS_Offers_REGUP-03-FEB-23.csv](./example_repo/data/ext.00013057.0000000000000000.20230203.033713363.2_Day_AS_Disclosure/2d_Agg_AS_Offers_REGUP-03-FEB-23.csv)\n",
    "    * [2d_Agg_AS_Offers_RRSFFR-03-FEB-23.csv](./example_repo/data/ext.00013057.0000000000000000.20230203.033713363.2_Day_AS_Disclosure/2d_Agg_AS_Offers_RRSFFR-03-FEB-23.csv)\n",
    "    * [2d_Agg_AS_Offers_RRSPFR-03-FEB-23.csv](./example_repo/data/ext.00013057.0000000000000000.20230203.033713363.2_Day_AS_Disclosure/2d_Agg_AS_Offers_RRSPFR-03-FEB-23.csv)\n",
    "    * [2d_Agg_AS_Offers_RRSUFR-03-FEB-23.csv](./example_repo/data/ext.00013057.0000000000000000.20230203.033713363.2_Day_AS_Disclosure/2d_Agg_AS_Offers_RRSUFR-03-FEB-23.csv)\n",
    "    * [2d_Cleared_DAM_AS_NSPIN-03-FEB-23.csv](./example_repo/data/ext.00013057.0000000000000000.20230203.033713363.2_Day_AS_Disclosure/2d_Cleared_DAM_AS_NSPIN-03-FEB-23.csv)\n",
    "    * [2d_Cleared_DAM_AS_REGDN-03-FEB-23.csv](./example_repo/data/ext.00013057.0000000000000000.20230203.033713363.2_Day_AS_Disclosure/2d_Cleared_DAM_AS_REGDN-03-FEB-23.csv)\n",
    "    * [2d_Cleared_DAM_AS_REGUP-03-FEB-23.csv](./example_repo/data/ext.00013057.0000000000000000.20230203.033713363.2_Day_AS_Disclosure/2d_Cleared_DAM_AS_REGUP-03-FEB-23.csv)\n",
    "    * [2d_Cleared_DAM_AS_RRSFFR-03-FEB-23.csv](./example_repo/data/ext.00013057.0000000000000000.20230203.033713363.2_Day_AS_Disclosure/2d_Cleared_DAM_AS_RRSFFR-03-FEB-23.csv)\n",
    "    * [2d_Cleared_DAM_AS_RRSPFR-03-FEB-23.csv](./example_repo/data/ext.00013057.0000000000000000.20230203.033713363.2_Day_AS_Disclosure/2d_Cleared_DAM_AS_RRSPFR-03-FEB-23.csv)\n",
    "    * [2d_Cleared_DAM_AS_RRSUFR-03-FEB-23.csv](./example_repo/data/ext.00013057.0000000000000000.20230203.033713363.2_Day_AS_Disclosure/2d_Cleared_DAM_AS_RRSUFR-03-FEB-23.csv)\n",
    "    * [2d_Self_Arranged_AS_NSPIN-03-FEB-23.csv](./example_repo/data/ext.00013057.0000000000000000.20230203.033713363.2_Day_AS_Disclosure/2d_Self_Arranged_AS_NSPIN-03-FEB-23.csv)\n",
    "    * [2d_Self_Arranged_AS_NSPNM-03-FEB-23.csv](./example_repo/data/ext.00013057.0000000000000000.20230203.033713363.2_Day_AS_Disclosure/2d_Self_Arranged_AS_NSPNM-03-FEB-23.csv)\n",
    "    * [2d_Self_Arranged_AS_REGDN-03-FEB-23.csv](./example_repo/data/ext.00013057.0000000000000000.20230203.033713363.2_Day_AS_Disclosure/2d_Self_Arranged_AS_REGDN-03-FEB-23.csv)\n",
    "    * [2d_Self_Arranged_AS_REGUP-03-FEB-23.csv](./example_repo/data/ext.00013057.0000000000000000.20230203.033713363.2_Day_AS_Disclosure/2d_Self_Arranged_AS_REGUP-03-FEB-23.csv)\n",
    "    * [2d_Self_Arranged_AS_RRSFFR-03-FEB-23.csv](./example_repo/data/ext.00013057.0000000000000000.20230203.033713363.2_Day_AS_Disclosure/2d_Self_Arranged_AS_RRSFFR-03-FEB-23.csv)\n",
    "    * [2d_Self_Arranged_AS_RRSPFR-03-FEB-23.csv](./example_repo/data/ext.00013057.0000000000000000.20230203.033713363.2_Day_AS_Disclosure/2d_Self_Arranged_AS_RRSPFR-03-FEB-23.csv)\n",
    "    * [2d_Self_Arranged_AS_RRSUFR-03-FEB-23.csv](./example_repo/data/ext.00013057.0000000000000000.20230203.033713363.2_Day_AS_Disclosure/2d_Self_Arranged_AS_RRSUFR-03-FEB-23.csv)\n",
    "  * [ext.00013057.0000000000000000.20230204.033341005.2_Day_AS_Disclosure/](./example_repo/data/ext.00013057.0000000000000000.20230204.033341005.2_Day_AS_Disclosure)\n",
    "    * [2d_Agg_AS_Offers_OFFNS-04-FEB-23.csv](./example_repo/data/ext.00013057.0000000000000000.20230204.033341005.2_Day_AS_Disclosure/2d_Agg_AS_Offers_OFFNS-04-FEB-23.csv)\n",
    "    * [2d_Agg_AS_Offers_ONNS-04-FEB-23.csv](./example_repo/data/ext.00013057.0000000000000000.20230204.033341005.2_Day_AS_Disclosure/2d_Agg_AS_Offers_ONNS-04-FEB-23.csv)\n",
    "    * [2d_Agg_AS_Offers_REGDN-04-FEB-23.csv](./example_repo/data/ext.00013057.0000000000000000.20230204.033341005.2_Day_AS_Disclosure/2d_Agg_AS_Offers_REGDN-04-FEB-23.csv)\n",
    "    * [2d_Agg_AS_Offers_REGUP-04-FEB-23.csv](./example_repo/data/ext.00013057.0000000000000000.20230204.033341005.2_Day_AS_Disclosure/2d_Agg_AS_Offers_REGUP-04-FEB-23.csv)\n",
    "    * [2d_Agg_AS_Offers_RRSFFR-04-FEB-23.csv](./example_repo/data/ext.00013057.0000000000000000.20230204.033341005.2_Day_AS_Disclosure/2d_Agg_AS_Offers_RRSFFR-04-FEB-23.csv)\n",
    "    * [2d_Agg_AS_Offers_RRSPFR-04-FEB-23.csv](./example_repo/data/ext.00013057.0000000000000000.20230204.033341005.2_Day_AS_Disclosure/2d_Agg_AS_Offers_RRSPFR-04-FEB-23.csv)\n",
    "    * [2d_Agg_AS_Offers_RRSUFR-04-FEB-23.csv](./example_repo/data/ext.00013057.0000000000000000.20230204.033341005.2_Day_AS_Disclosure/2d_Agg_AS_Offers_RRSUFR-04-FEB-23.csv)\n",
    "    * [2d_Cleared_DAM_AS_NSPIN-04-FEB-23.csv](./example_repo/data/ext.00013057.0000000000000000.20230204.033341005.2_Day_AS_Disclosure/2d_Cleared_DAM_AS_NSPIN-04-FEB-23.csv)\n",
    "    * [2d_Cleared_DAM_AS_REGDN-04-FEB-23.csv](./example_repo/data/ext.00013057.0000000000000000.20230204.033341005.2_Day_AS_Disclosure/2d_Cleared_DAM_AS_REGDN-04-FEB-23.csv)\n",
    "    * [2d_Cleared_DAM_AS_REGUP-04-FEB-23.csv](./example_repo/data/ext.00013057.0000000000000000.20230204.033341005.2_Day_AS_Disclosure/2d_Cleared_DAM_AS_REGUP-04-FEB-23.csv)\n",
    "    * [2d_Cleared_DAM_AS_RRSFFR-04-FEB-23.csv](./example_repo/data/ext.00013057.0000000000000000.20230204.033341005.2_Day_AS_Disclosure/2d_Cleared_DAM_AS_RRSFFR-04-FEB-23.csv)\n",
    "    * [2d_Cleared_DAM_AS_RRSPFR-04-FEB-23.csv](./example_repo/data/ext.00013057.0000000000000000.20230204.033341005.2_Day_AS_Disclosure/2d_Cleared_DAM_AS_RRSPFR-04-FEB-23.csv)\n",
    "    * [2d_Cleared_DAM_AS_RRSUFR-04-FEB-23.csv](./example_repo/data/ext.00013057.0000000000000000.20230204.033341005.2_Day_AS_Disclosure/2d_Cleared_DAM_AS_RRSUFR-04-FEB-23.csv)\n",
    "    * [2d_Self_Arranged_AS_NSPIN-04-FEB-23.csv](./example_repo/data/ext.00013057.0000000000000000.20230204.033341005.2_Day_AS_Disclosure/2d_Self_Arranged_AS_NSPIN-04-FEB-23.csv)\n",
    "    * [2d_Self_Arranged_AS_NSPNM-04-FEB-23.csv](./example_repo/data/ext.00013057.0000000000000000.20230204.033341005.2_Day_AS_Disclosure/2d_Self_Arranged_AS_NSPNM-04-FEB-23.csv)\n",
    "    * [2d_Self_Arranged_AS_REGDN-04-FEB-23.csv](./example_repo/data/ext.00013057.0000000000000000.20230204.033341005.2_Day_AS_Disclosure/2d_Self_Arranged_AS_REGDN-04-FEB-23.csv)\n",
    "    * [2d_Self_Arranged_AS_REGUP-04-FEB-23.csv](./example_repo/data/ext.00013057.0000000000000000.20230204.033341005.2_Day_AS_Disclosure/2d_Self_Arranged_AS_REGUP-04-FEB-23.csv)\n",
    "    * [2d_Self_Arranged_AS_RRSFFR-04-FEB-23.csv](./example_repo/data/ext.00013057.0000000000000000.20230204.033341005.2_Day_AS_Disclosure/2d_Self_Arranged_AS_RRSFFR-04-FEB-23.csv)\n",
    "    * [2d_Self_Arranged_AS_RRSPFR-04-FEB-23.csv](./example_repo/data/ext.00013057.0000000000000000.20230204.033341005.2_Day_AS_Disclosure/2d_Self_Arranged_AS_RRSPFR-04-FEB-23.csv)\n",
    "    * [2d_Self_Arranged_AS_RRSUFR-04-FEB-23.csv](./example_repo/data/ext.00013057.0000000000000000.20230204.033341005.2_Day_AS_Disclosure/2d_Self_Arranged_AS_RRSUFR-04-FEB-23.csv)\n",
    "  * [ext.00013057.0000000000000000.20230205.033006394.2_Day_AS_Disclosure/](./example_repo/data/ext.00013057.0000000000000000.20230205.033006394.2_Day_AS_Disclosure)\n",
    "    * [2d_Agg_AS_Offers_OFFNS-05-FEB-23.csv](./example_repo/data/ext.00013057.0000000000000000.20230205.033006394.2_Day_AS_Disclosure/2d_Agg_AS_Offers_OFFNS-05-FEB-23.csv)\n",
    "    * [2d_Agg_AS_Offers_ONNS-05-FEB-23.csv](./example_repo/data/ext.00013057.0000000000000000.20230205.033006394.2_Day_AS_Disclosure/2d_Agg_AS_Offers_ONNS-05-FEB-23.csv)\n",
    "    * [2d_Agg_AS_Offers_REGDN-05-FEB-23.csv](./example_repo/data/ext.00013057.0000000000000000.20230205.033006394.2_Day_AS_Disclosure/2d_Agg_AS_Offers_REGDN-05-FEB-23.csv)\n",
    "    * [2d_Agg_AS_Offers_REGUP-05-FEB-23.csv](./example_repo/data/ext.00013057.0000000000000000.20230205.033006394.2_Day_AS_Disclosure/2d_Agg_AS_Offers_REGUP-05-FEB-23.csv)\n",
    "    * [2d_Agg_AS_Offers_RRSFFR-05-FEB-23.csv](./example_repo/data/ext.00013057.0000000000000000.20230205.033006394.2_Day_AS_Disclosure/2d_Agg_AS_Offers_RRSFFR-05-FEB-23.csv)\n",
    "    * [2d_Agg_AS_Offers_RRSPFR-05-FEB-23.csv](./example_repo/data/ext.00013057.0000000000000000.20230205.033006394.2_Day_AS_Disclosure/2d_Agg_AS_Offers_RRSPFR-05-FEB-23.csv)\n",
    "    * [2d_Agg_AS_Offers_RRSUFR-05-FEB-23.csv](./example_repo/data/ext.00013057.0000000000000000.20230205.033006394.2_Day_AS_Disclosure/2d_Agg_AS_Offers_RRSUFR-05-FEB-23.csv)\n",
    "    * [2d_Cleared_DAM_AS_NSPIN-05-FEB-23.csv](./example_repo/data/ext.00013057.0000000000000000.20230205.033006394.2_Day_AS_Disclosure/2d_Cleared_DAM_AS_NSPIN-05-FEB-23.csv)\n",
    "    * [2d_Cleared_DAM_AS_REGDN-05-FEB-23.csv](./example_repo/data/ext.00013057.0000000000000000.20230205.033006394.2_Day_AS_Disclosure/2d_Cleared_DAM_AS_REGDN-05-FEB-23.csv)\n",
    "    * [2d_Cleared_DAM_AS_REGUP-05-FEB-23.csv](./example_repo/data/ext.00013057.0000000000000000.20230205.033006394.2_Day_AS_Disclosure/2d_Cleared_DAM_AS_REGUP-05-FEB-23.csv)\n",
    "    * [2d_Cleared_DAM_AS_RRSFFR-05-FEB-23.csv](./example_repo/data/ext.00013057.0000000000000000.20230205.033006394.2_Day_AS_Disclosure/2d_Cleared_DAM_AS_RRSFFR-05-FEB-23.csv)\n",
    "    * [2d_Cleared_DAM_AS_RRSPFR-05-FEB-23.csv](./example_repo/data/ext.00013057.0000000000000000.20230205.033006394.2_Day_AS_Disclosure/2d_Cleared_DAM_AS_RRSPFR-05-FEB-23.csv)\n",
    "    * [2d_Cleared_DAM_AS_RRSUFR-05-FEB-23.csv](./example_repo/data/ext.00013057.0000000000000000.20230205.033006394.2_Day_AS_Disclosure/2d_Cleared_DAM_AS_RRSUFR-05-FEB-23.csv)\n",
    "    * [2d_Self_Arranged_AS_NSPIN-05-FEB-23.csv](./example_repo/data/ext.00013057.0000000000000000.20230205.033006394.2_Day_AS_Disclosure/2d_Self_Arranged_AS_NSPIN-05-FEB-23.csv)\n",
    "    * [2d_Self_Arranged_AS_NSPNM-05-FEB-23.csv](./example_repo/data/ext.00013057.0000000000000000.20230205.033006394.2_Day_AS_Disclosure/2d_Self_Arranged_AS_NSPNM-05-FEB-23.csv)\n",
    "    * [2d_Self_Arranged_AS_REGDN-05-FEB-23.csv](./example_repo/data/ext.00013057.0000000000000000.20230205.033006394.2_Day_AS_Disclosure/2d_Self_Arranged_AS_REGDN-05-FEB-23.csv)\n",
    "    * [2d_Self_Arranged_AS_REGUP-05-FEB-23.csv](./example_repo/data/ext.00013057.0000000000000000.20230205.033006394.2_Day_AS_Disclosure/2d_Self_Arranged_AS_REGUP-05-FEB-23.csv)\n",
    "    * [2d_Self_Arranged_AS_RRSFFR-05-FEB-23.csv](./example_repo/data/ext.00013057.0000000000000000.20230205.033006394.2_Day_AS_Disclosure/2d_Self_Arranged_AS_RRSFFR-05-FEB-23.csv)\n",
    "    * [2d_Self_Arranged_AS_RRSPFR-05-FEB-23.csv](./example_repo/data/ext.00013057.0000000000000000.20230205.033006394.2_Day_AS_Disclosure/2d_Self_Arranged_AS_RRSPFR-05-FEB-23.csv)\n",
    "    * [2d_Self_Arranged_AS_RRSUFR-05-FEB-23.csv](./example_repo/data/ext.00013057.0000000000000000.20230205.033006394.2_Day_AS_Disclosure/2d_Self_Arranged_AS_RRSUFR-05-FEB-23.csv)\n",
    "  * [ext.00013057.0000000000000000.20230206.033100532.2_Day_AS_Disclosure/](./example_repo/data/ext.00013057.0000000000000000.20230206.033100532.2_Day_AS_Disclosure)\n",
    "    * [2d_Agg_AS_Offers_OFFNS-06-FEB-23.csv](./example_repo/data/ext.00013057.0000000000000000.20230206.033100532.2_Day_AS_Disclosure/2d_Agg_AS_Offers_OFFNS-06-FEB-23.csv)\n",
    "    * [2d_Agg_AS_Offers_ONNS-06-FEB-23.csv](./example_repo/data/ext.00013057.0000000000000000.20230206.033100532.2_Day_AS_Disclosure/2d_Agg_AS_Offers_ONNS-06-FEB-23.csv)\n",
    "    * [2d_Agg_AS_Offers_REGDN-06-FEB-23.csv](./example_repo/data/ext.00013057.0000000000000000.20230206.033100532.2_Day_AS_Disclosure/2d_Agg_AS_Offers_REGDN-06-FEB-23.csv)\n",
    "    * [2d_Agg_AS_Offers_REGUP-06-FEB-23.csv](./example_repo/data/ext.00013057.0000000000000000.20230206.033100532.2_Day_AS_Disclosure/2d_Agg_AS_Offers_REGUP-06-FEB-23.csv)\n",
    "    * [2d_Agg_AS_Offers_RRSFFR-06-FEB-23.csv](./example_repo/data/ext.00013057.0000000000000000.20230206.033100532.2_Day_AS_Disclosure/2d_Agg_AS_Offers_RRSFFR-06-FEB-23.csv)\n",
    "    * [2d_Agg_AS_Offers_RRSPFR-06-FEB-23.csv](./example_repo/data/ext.00013057.0000000000000000.20230206.033100532.2_Day_AS_Disclosure/2d_Agg_AS_Offers_RRSPFR-06-FEB-23.csv)\n",
    "    * [2d_Agg_AS_Offers_RRSUFR-06-FEB-23.csv](./example_repo/data/ext.00013057.0000000000000000.20230206.033100532.2_Day_AS_Disclosure/2d_Agg_AS_Offers_RRSUFR-06-FEB-23.csv)\n",
    "    * [2d_Cleared_DAM_AS_NSPIN-06-FEB-23.csv](./example_repo/data/ext.00013057.0000000000000000.20230206.033100532.2_Day_AS_Disclosure/2d_Cleared_DAM_AS_NSPIN-06-FEB-23.csv)\n",
    "    * [2d_Cleared_DAM_AS_REGDN-06-FEB-23.csv](./example_repo/data/ext.00013057.0000000000000000.20230206.033100532.2_Day_AS_Disclosure/2d_Cleared_DAM_AS_REGDN-06-FEB-23.csv)\n",
    "    * [2d_Cleared_DAM_AS_REGUP-06-FEB-23.csv](./example_repo/data/ext.00013057.0000000000000000.20230206.033100532.2_Day_AS_Disclosure/2d_Cleared_DAM_AS_REGUP-06-FEB-23.csv)\n",
    "    * [2d_Cleared_DAM_AS_RRSFFR-06-FEB-23.csv](./example_repo/data/ext.00013057.0000000000000000.20230206.033100532.2_Day_AS_Disclosure/2d_Cleared_DAM_AS_RRSFFR-06-FEB-23.csv)\n",
    "    * [2d_Cleared_DAM_AS_RRSPFR-06-FEB-23.csv](./example_repo/data/ext.00013057.0000000000000000.20230206.033100532.2_Day_AS_Disclosure/2d_Cleared_DAM_AS_RRSPFR-06-FEB-23.csv)\n",
    "    * [2d_Cleared_DAM_AS_RRSUFR-06-FEB-23.csv](./example_repo/data/ext.00013057.0000000000000000.20230206.033100532.2_Day_AS_Disclosure/2d_Cleared_DAM_AS_RRSUFR-06-FEB-23.csv)\n",
    "    * [2d_Self_Arranged_AS_NSPIN-06-FEB-23.csv](./example_repo/data/ext.00013057.0000000000000000.20230206.033100532.2_Day_AS_Disclosure/2d_Self_Arranged_AS_NSPIN-06-FEB-23.csv)\n",
    "    * [2d_Self_Arranged_AS_NSPNM-06-FEB-23.csv](./example_repo/data/ext.00013057.0000000000000000.20230206.033100532.2_Day_AS_Disclosure/2d_Self_Arranged_AS_NSPNM-06-FEB-23.csv)\n",
    "    * [2d_Self_Arranged_AS_REGDN-06-FEB-23.csv](./example_repo/data/ext.00013057.0000000000000000.20230206.033100532.2_Day_AS_Disclosure/2d_Self_Arranged_AS_REGDN-06-FEB-23.csv)\n",
    "    * [2d_Self_Arranged_AS_REGUP-06-FEB-23.csv](./example_repo/data/ext.00013057.0000000000000000.20230206.033100532.2_Day_AS_Disclosure/2d_Self_Arranged_AS_REGUP-06-FEB-23.csv)\n",
    "    * [2d_Self_Arranged_AS_RRSFFR-06-FEB-23.csv](./example_repo/data/ext.00013057.0000000000000000.20230206.033100532.2_Day_AS_Disclosure/2d_Self_Arranged_AS_RRSFFR-06-FEB-23.csv)\n",
    "    * [2d_Self_Arranged_AS_RRSPFR-06-FEB-23.csv](./example_repo/data/ext.00013057.0000000000000000.20230206.033100532.2_Day_AS_Disclosure/2d_Self_Arranged_AS_RRSPFR-06-FEB-23.csv)\n",
    "    * [2d_Self_Arranged_AS_RRSUFR-06-FEB-23.csv](./example_repo/data/ext.00013057.0000000000000000.20230206.033100532.2_Day_AS_Disclosure/2d_Self_Arranged_AS_RRSUFR-06-FEB-23.csv)\n",
    "* [CONTRIBUTORS.md](./example_repo/CONTRIBUTORS.md)\n",
    "* [LICENSE](./example_repo/LICENSE)\n",
    "* [analysis.ipynb](./example_repo/analysis.ipynb)\n",
    "* [data_description.md](./example_repo/data_description.md)\n",
    "* [main.py](./example_repo/main.py)\n",
    "* [requirements.txt](./example_repo/requirements.txt)\n"
   ]
  },
  {
   "cell_type": "code",
   "execution_count": 10,
   "metadata": {},
   "outputs": [],
   "source": [
    "import os\n",
    "import pandas as pd\n",
    "\n",
    "dates = [\"01\", \"02\", \"03\", \"04\", \"05\", \"06\"]\n",
    "folders = ['feb1', 'feb2', 'feb3', 'feb4', 'feb5', 'feb6']\n",
    "file_sets = []\n",
    "\n",
    "for date in dates:\n",
    "    file_sets.append([f\"2d_Agg_AS_Offers_OFFNS-{date}-FEB-23.csv\",\n",
    "                      f\"2d_Agg_AS_Offers_ONNS-{date}-FEB-23.csv\",\n",
    "                      f\"2d_Agg_AS_Offers_REGDN-{date}-FEB-23.csv\",\n",
    "                      f\"2d_Agg_AS_Offers_REGUP-{date}-FEB-23.csv\",\n",
    "                      f\"2d_Agg_AS_Offers_RRSFFR-{date}-FEB-23.csv\",\n",
    "                      f\"2d_Agg_AS_Offers_RRSPFR-{date}-FEB-23.csv\",\n",
    "                      f\"2d_Agg_AS_Offers_RRSUFR-{date}-FEB-23.csv\",\n",
    "                      f\"2d_Cleared_DAM_AS_NSPIN-{date}-FEB-23.csv\",\n",
    "                      f\"2d_Cleared_DAM_AS_REGDN-{date}-FEB-23.csv\",\n",
    "                      f\"2d_Cleared_DAM_AS_REGUP-{date}-FEB-23.csv\",\n",
    "                      f\"2d_Cleared_DAM_AS_RRSFFR-{date}-FEB-23.csv\",\n",
    "                      f\"2d_Cleared_DAM_AS_RRSPFR-{date}-FEB-23.csv\",\n",
    "                      f\"2d_Cleared_DAM_AS_RRSUFR-{date}-FEB-23.csv\",\n",
    "                      f\"2d_Self_Arranged_AS_NSPIN-{date}-FEB-23.csv\",\n",
    "                      f\"2d_Self_Arranged_AS_NSPNM-{date}-FEB-23.csv\",\n",
    "                        f\"2d_Self_Arranged_AS_REGDN-{date}-FEB-23.csv\",\n",
    "                        f\"2d_Self_Arranged_AS_REGUP-{date}-FEB-23.csv\",\n",
    "                        f\"2d_Self_Arranged_AS_RRSFFR-{date}-FEB-23.csv\",\n",
    "                        f\"2d_Self_Arranged_AS_RRSPFR-{date}-FEB-23.csv\",\n",
    "                        f\"2d_Self_Arranged_AS_RRSUFR-{date}-FEB-23.csv\"\n",
    "                        ])\n",
    "\n",
    "# create dataframes from the csv files\n",
    "dataframes = []\n",
    "for folder, file_set in zip(folders, file_sets):\n",
    "    for file in file_set:\n",
    "        dataframes.append(pd.read_csv(f\"../example_repo/data/{folder}/{file}\"))\n"
   ]
  },
  {
   "cell_type": "code",
   "execution_count": 12,
   "metadata": {},
   "outputs": [
    {
     "data": {
      "text/plain": [
       "120"
      ]
     },
     "execution_count": 12,
     "metadata": {},
     "output_type": "execute_result"
    }
   ],
   "source": [
    "len(dataframes)"
   ]
  },
  {
   "cell_type": "code",
   "execution_count": 13,
   "metadata": {},
   "outputs": [
    {
     "data": {
      "text/html": [
       "<div>\n",
       "<style scoped>\n",
       "    .dataframe tbody tr th:only-of-type {\n",
       "        vertical-align: middle;\n",
       "    }\n",
       "\n",
       "    .dataframe tbody tr th {\n",
       "        vertical-align: top;\n",
       "    }\n",
       "\n",
       "    .dataframe thead th {\n",
       "        text-align: right;\n",
       "    }\n",
       "</style>\n",
       "<table border=\"1\" class=\"dataframe\">\n",
       "  <thead>\n",
       "    <tr style=\"text-align: right;\">\n",
       "      <th></th>\n",
       "      <th>Delivery Date</th>\n",
       "      <th>Hour Ending</th>\n",
       "      <th>MW Offered</th>\n",
       "      <th>OFFNS Offer Price</th>\n",
       "    </tr>\n",
       "  </thead>\n",
       "  <tbody>\n",
       "    <tr>\n",
       "      <th>0</th>\n",
       "      <td>01/30/2023</td>\n",
       "      <td>1</td>\n",
       "      <td>819.0</td>\n",
       "      <td>0.01</td>\n",
       "    </tr>\n",
       "    <tr>\n",
       "      <th>1</th>\n",
       "      <td>01/30/2023</td>\n",
       "      <td>1</td>\n",
       "      <td>1066.2</td>\n",
       "      <td>0.02</td>\n",
       "    </tr>\n",
       "    <tr>\n",
       "      <th>2</th>\n",
       "      <td>01/30/2023</td>\n",
       "      <td>1</td>\n",
       "      <td>1216.8</td>\n",
       "      <td>0.03</td>\n",
       "    </tr>\n",
       "    <tr>\n",
       "      <th>3</th>\n",
       "      <td>01/30/2023</td>\n",
       "      <td>1</td>\n",
       "      <td>1464.0</td>\n",
       "      <td>0.04</td>\n",
       "    </tr>\n",
       "    <tr>\n",
       "      <th>4</th>\n",
       "      <td>01/30/2023</td>\n",
       "      <td>1</td>\n",
       "      <td>1614.6</td>\n",
       "      <td>0.05</td>\n",
       "    </tr>\n",
       "  </tbody>\n",
       "</table>\n",
       "</div>"
      ],
      "text/plain": [
       "  Delivery Date  Hour Ending  MW Offered  OFFNS Offer Price\n",
       "0    01/30/2023            1       819.0               0.01\n",
       "1    01/30/2023            1      1066.2               0.02\n",
       "2    01/30/2023            1      1216.8               0.03\n",
       "3    01/30/2023            1      1464.0               0.04\n",
       "4    01/30/2023            1      1614.6               0.05"
      ]
     },
     "execution_count": 13,
     "metadata": {},
     "output_type": "execute_result"
    }
   ],
   "source": [
    "# show dataframe 1\n",
    "dataframes[0].head()"
   ]
  },
  {
   "cell_type": "code",
   "execution_count": 20,
   "metadata": {},
   "outputs": [],
   "source": [
    "# cast Delivery Date to datetime\n",
    "dataframes[0]['Delivery Date'] = pd.to_datetime(dataframes[0]['Delivery Date'])"
   ]
  },
  {
   "attachments": {},
   "cell_type": "markdown",
   "metadata": {},
   "source": [
    "---"
   ]
  },
  {
   "attachments": {},
   "cell_type": "markdown",
   "metadata": {},
   "source": [
    "# Rapid Data Visualization"
   ]
  },
  {
   "attachments": {},
   "cell_type": "markdown",
   "metadata": {},
   "source": [
    "Data Visual Description and Instructions\n",
    "Goal: create a data visualization that shows the data in a way that is easy to understand and interpret. The visualization should be interactive and allow the user to explore the data in different ways. The visualization should be created using a Python library such as Bokeh, Seaborn, Matplotlib. Don't use Plotly."
   ]
  },
  {
   "cell_type": "code",
   "execution_count": 23,
   "metadata": {},
   "outputs": [
    {
     "data": {
      "image/png": "[encoded data removed]",
      "text/plain": [
       "<Figure size 2000x1000 with 1 Axes>"
      ]
     },
     "metadata": {},
     "output_type": "display_data"
    }
   ],
   "source": [
    "# create the data visualization described above\n",
    "fig, ax = plt.subplots(figsize=(20, 10))\n",
    "sns.lineplot(x=\"Delivery Date\", y=\"MW Offered\", data=dataframes[0], ax=ax)\n",
    "plt.show()\n"
   ]
  },
  {
   "cell_type": "code",
   "execution_count": null,
   "metadata": {},
   "outputs": [],
   "source": []
  }
 ],
 "metadata": {
  "kernelspec": {
   "display_name": "groupme",
   "language": "python",
   "name": "python3"
  },
  "language_info": {
   "codemirror_mode": {
    "name": "ipython",
    "version": 3
   },
   "file_extension": ".py",
   "mimetype": "text/x-python",
   "name": "python",
   "nbconvert_exporter": "python",
   "pygments_lexer": "ipython3",
   "version": "3.9.6"
  },
  "orig_nbformat": 4,
  "vscode": {
   "interpreter": {
    "hash": "28dd76f97a2595215b3511d9563b8125e93469ee739d17a6b25584482d270cb8"
   }
  }
 },
 "nbformat": 4,
 "nbformat_minor": 2
}
