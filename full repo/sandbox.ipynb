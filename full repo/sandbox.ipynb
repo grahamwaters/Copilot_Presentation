{
 "cells": [
  {
   "cell_type": "code",
   "execution_count": null,
   "metadata": {},
   "outputs": [],
   "source": [
    "# imports for this function\n",
    "import os, pandas as pd, numpy as np\n",
    "def read_xlsx(file_path):\n",
    "    \"\"\"\n",
    "    read_xlsx is a function that reads an XLSX file and returns dataframes where each sheet is a dataframe, each column of each df should be type-cast based on the values from the corresponding sheet in the second row, and the column names are in the first row. The function should save these dataframes in a folder called `extracted_dfs` with each sheet in its own folder named after the sheet's name in the file. Within these folders, the function should save the dataframe as a pickle file. The function should return a dictionary with the sheet names as keys and the dataframe information as values.\n",
    "\n",
    "    The libraries used in this function are: `os`, `pandas`, `numpy`.\n",
    "\n",
    "    :param file_path: _description_\n",
    "    :type file_path: _type_\n",
    "    :return: _description_\n",
    "    :rtype: _type_\n",
    "    \"\"\"\n",
    "    # Read in the file\n",
    "    with pd.ExcelFile(file_path) as xlsx:\n",
    "        # Get the sheet names\n",
    "        sheet_names = xlsx.sheet_names\n",
    "\n",
    "        # Create an empty dictionary to store the dataframes\n",
    "        dfs = {}\n",
    "\n",
    "        # Iterate through the sheets\n",
    "        for sheet in sheet_names:\n",
    "            # Get the dataframe from the sheet\n",
    "            df = pd.read_excel(xlsx, sheet_name=sheet)\n",
    "\n",
    "            # Get the second row of the dataframe\n",
    "            second_row = df.iloc[1]\n",
    "\n",
    "            # Get the first row of the dataframe\n",
    "            first_row = df.iloc[0]\n",
    "\n",
    "            # Get the column names from the first row\n",
    "            df.columns = first_row\n",
    "\n",
    "            # Drop the first two rows\n",
    "            df = df.iloc[2:]\n",
    "\n",
    "            # Iterate through the columns in the second row\n",
    "            for col in second_row.index:\n",
    "                # Get the type of the value in the second row\n",
    "                col_type = type(second_row[col])\n",
    "\n",
    "                # Cast the column to the type of the second row value\n",
    "                df[col] = df[col].astype(col_type)\n",
    "\n",
    "            # Create a folder for the sheet\n",
    "            os.makedirs(f\"extracted_dfs/{sheet}\", exist_ok=True)\n",
    "\n",
    "            # Save the dataframe as a pickle file in the sheet folder\n",
    "            df.to_pickle(f\"extracted_dfs/{sheet}/{sheet}.pkl\")\n",
    "\n",
    "            # Add the dataframe to the dictionary\n",
    "            dfs[sheet] = df\n",
    "\n",
    "    # Return the dictionary\n",
    "    return dfs"
   ]
  },
  {
   "cell_type": "code",
   "execution_count": null,
   "metadata": {},
   "outputs": [],
   "source": [
    "# Testing this function"
   ]
  }
 ],
 "metadata": {
  "language_info": {
   "name": "python"
  },
  "orig_nbformat": 4
 },
 "nbformat": 4,
 "nbformat_minor": 2
}
